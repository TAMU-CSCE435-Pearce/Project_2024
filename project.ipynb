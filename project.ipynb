{
 "cells": [
  {
   "cell_type": "code",
   "execution_count": 39,
   "metadata": {
    "scrolled": true
   },
   "outputs": [],
   "source": [
    "import sys\n",
    "sys.path.append(\"/scratch/group/csce435-f24/python-3.10.4/lib/python3.10/site-packages\")\n",
    "sys.path.append(\"/scratch/group/csce435-f24/thicket\")\n",
    "from glob import glob\n",
    "\n",
    "import matplotlib.pyplot as plt\n",
    "import pandas as pd\n",
    "\n",
    "import thicket as th\n",
    "\n",
    "pd.set_option(\"display.max_rows\", None)\n",
    "pd.set_option(\"display.max_columns\", None)"
   ]
  },
  {
   "cell_type": "markdown",
   "metadata": {},
   "source": [
    "Read all files"
   ]
  },
  {
   "cell_type": "code",
   "execution_count": 43,
   "metadata": {
    "scrolled": true
   },
   "outputs": [
    {
     "name": "stderr",
     "output_type": "stream",
     "text": [
      "(1/2) Reading Files: 100%|██████████| 1/1 [00:00<00:00, 28.36it/s]\n",
      "0it [00:00, ?it/s]\n"
     ]
    }
   ],
   "source": [
    "#1_trial is a name of a folder containing the cali files, you may create a folder with a different name and replace the folder name here\n",
    "tk = th.Thicket.from_caliperreader(glob(\"./caliper_output/merge-p32-a4194304.cali\"))"
   ]
  },
  {
   "cell_type": "markdown",
   "metadata": {},
   "source": [
    "View Calltree"
   ]
  },
  {
   "cell_type": "code",
   "execution_count": 44,
   "metadata": {},
   "outputs": [
    {
     "name": "stdout",
     "output_type": "stream",
     "text": [
      "  _____ _     _      _        _   \n",
      " |_   _| |__ (_) ___| | _____| |_ \n",
      "   | | | '_ \\| |/ __| |/ / _ \\ __|\n",
      "   | | | | | | | (__|   <  __/ |_ \n",
      "   |_| |_| |_|_|\\___|_|\\_\\___|\\__|  v2024.1.0\n",
      "\n",
      "\u001b[38;5;196m0.910\u001b[0m main\u001b[0m\n",
      "├─ \u001b[38;5;22m0.023\u001b[0m data_init_runtime\u001b[0m\n",
      "│  └─ \u001b[38;5;22m0.023\u001b[0m data_perturbed_init_runtime\u001b[0m\n",
      "│     └─ \u001b[38;5;22m0.017\u001b[0m data_init_runtime\u001b[0m\n",
      "├─ \u001b[38;5;220m0.591\u001b[0m comp\u001b[0m\n",
      "│  ├─ \u001b[38;5;46m0.444\u001b[0m comp_large\u001b[0m\n",
      "│  └─ \u001b[38;5;34m0.146\u001b[0m comp_small\u001b[0m\n",
      "├─ \u001b[38;5;22m0.059\u001b[0m comm\u001b[0m\n",
      "│  ├─ \u001b[38;5;22m0.013\u001b[0m comm_small\u001b[0m\n",
      "│  │  └─ \u001b[38;5;22m0.013\u001b[0m MPI_Sendrecv\u001b[0m\n",
      "│  └─ \u001b[38;5;22m0.046\u001b[0m comm_large\u001b[0m\n",
      "│     └─ \u001b[38;5;22m0.046\u001b[0m MPI_Sendrecv\u001b[0m\n",
      "└─ \u001b[38;5;22m0.011\u001b[0m correctness_check\u001b[0m\n",
      "   └─ \u001b[38;5;22m0.001\u001b[0m comm\u001b[0m\n",
      "      └─ \u001b[38;5;22m0.001\u001b[0m comm_small\u001b[0m\n",
      "         ├─ \u001b[38;5;22m0.000\u001b[0m MPI_Recv\u001b[0m\n",
      "         └─ \u001b[38;5;22m0.000\u001b[0m MPI_Send\u001b[0m\n",
      "\u001b[38;5;22m0.000\u001b[0m MPI_Finalize\u001b[0m\n",
      "\u001b[38;5;22m0.000\u001b[0m MPI_Initialized\u001b[0m\n",
      "\u001b[38;5;22m0.000\u001b[0m MPI_Finalized\u001b[0m\n",
      "\u001b[38;5;22m0.003\u001b[0m MPI_Comm_dup\u001b[0m\n",
      "\n",
      "\u001b[4mLegend\u001b[0m (Metric: Avg time/rank Min: 0.00 Max: 0.91 indices: {'profile': 3297710960})\n",
      "\u001b[38;5;196m█ \u001b[0m0.82 - 0.91\n",
      "\u001b[38;5;208m█ \u001b[0m0.64 - 0.82\n",
      "\u001b[38;5;220m█ \u001b[0m0.45 - 0.64\n",
      "\u001b[38;5;46m█ \u001b[0m0.27 - 0.45\n",
      "\u001b[38;5;34m█ \u001b[0m0.09 - 0.27\n",
      "\u001b[38;5;22m█ \u001b[0m0.00 - 0.09\n",
      "\n",
      "name\u001b[0m User code    \u001b[38;5;160m◀ \u001b[0m Only in left graph    \u001b[38;5;28m▶ \u001b[0m Only in right graph\n",
      "\n"
     ]
    }
   ],
   "source": [
    "print(tk.tree(metric_column=\"Avg time/rank\"))"
   ]
  },
  {
   "cell_type": "markdown",
   "metadata": {},
   "source": [
    "Group Performance data by `matrix_size` in the Thicket metadata table."
   ]
  },
  {
   "cell_type": "code",
   "execution_count": 46,
   "metadata": {},
   "outputs": [
    {
     "data": {
      "text/html": [
       "<div>\n",
       "<style scoped>\n",
       "    .dataframe tbody tr th:only-of-type {\n",
       "        vertical-align: middle;\n",
       "    }\n",
       "\n",
       "    .dataframe tbody tr th {\n",
       "        vertical-align: top;\n",
       "    }\n",
       "\n",
       "    .dataframe thead th {\n",
       "        text-align: right;\n",
       "    }\n",
       "</style>\n",
       "<table border=\"1\" class=\"dataframe\">\n",
       "  <thead>\n",
       "    <tr style=\"text-align: left;\">\n",
       "      <th></th>\n",
       "      <th></th>\n",
       "      <th>nid</th>\n",
       "      <th>spot.channel</th>\n",
       "      <th>Min time/rank</th>\n",
       "      <th>Max time/rank</th>\n",
       "      <th>Avg time/rank</th>\n",
       "      <th>Total time</th>\n",
       "      <th>Variance time/rank</th>\n",
       "      <th>Calls/rank (min)</th>\n",
       "      <th>Calls/rank (avg)</th>\n",
       "      <th>Calls/rank (max)</th>\n",
       "      <th>Calls/rank (total)</th>\n",
       "      <th>Min time/rank (exc)</th>\n",
       "      <th>Max time/rank (exc)</th>\n",
       "      <th>Avg time/rank (exc)</th>\n",
       "      <th>Total time (exc)</th>\n",
       "      <th>name</th>\n",
       "    </tr>\n",
       "    <tr>\n",
       "      <th>node</th>\n",
       "      <th>profile</th>\n",
       "      <th></th>\n",
       "      <th></th>\n",
       "      <th></th>\n",
       "      <th></th>\n",
       "      <th></th>\n",
       "      <th></th>\n",
       "      <th></th>\n",
       "      <th></th>\n",
       "      <th></th>\n",
       "      <th></th>\n",
       "      <th></th>\n",
       "      <th></th>\n",
       "      <th></th>\n",
       "      <th></th>\n",
       "      <th></th>\n",
       "      <th></th>\n",
       "    </tr>\n",
       "  </thead>\n",
       "  <tbody>\n",
       "    <tr>\n",
       "      <th>{'name': 'main', 'type': 'function'}</th>\n",
       "      <th>3297710960</th>\n",
       "      <td>1.0</td>\n",
       "      <td>regionprofile</td>\n",
       "      <td>0.906205</td>\n",
       "      <td>0.912302</td>\n",
       "      <td>0.909992</td>\n",
       "      <td>29.119751</td>\n",
       "      <td>0.000005</td>\n",
       "      <td>1.0</td>\n",
       "      <td>1.0</td>\n",
       "      <td>1.0</td>\n",
       "      <td>32.0</td>\n",
       "      <td>0.200286</td>\n",
       "      <td>0.235638</td>\n",
       "      <td>0.225352</td>\n",
       "      <td>7.211253</td>\n",
       "      <td>main</td>\n",
       "    </tr>\n",
       "    <tr>\n",
       "      <th>{'name': 'data_init_runtime', 'type': 'function'}</th>\n",
       "      <th>3297710960</th>\n",
       "      <td>2.0</td>\n",
       "      <td>regionprofile</td>\n",
       "      <td>0.021971</td>\n",
       "      <td>0.024824</td>\n",
       "      <td>0.023147</td>\n",
       "      <td>0.740707</td>\n",
       "      <td>0.000001</td>\n",
       "      <td>1.0</td>\n",
       "      <td>1.0</td>\n",
       "      <td>1.0</td>\n",
       "      <td>32.0</td>\n",
       "      <td>0.000019</td>\n",
       "      <td>0.000025</td>\n",
       "      <td>0.000022</td>\n",
       "      <td>0.000700</td>\n",
       "      <td>data_init_runtime</td>\n",
       "    </tr>\n",
       "    <tr>\n",
       "      <th>{'name': 'data_perturbed_init_runtime', 'type': 'function'}</th>\n",
       "      <th>3297710960</th>\n",
       "      <td>3.0</td>\n",
       "      <td>regionprofile</td>\n",
       "      <td>0.021947</td>\n",
       "      <td>0.024798</td>\n",
       "      <td>0.023125</td>\n",
       "      <td>0.740007</td>\n",
       "      <td>0.000001</td>\n",
       "      <td>1.0</td>\n",
       "      <td>1.0</td>\n",
       "      <td>1.0</td>\n",
       "      <td>32.0</td>\n",
       "      <td>0.004903</td>\n",
       "      <td>0.007133</td>\n",
       "      <td>0.005629</td>\n",
       "      <td>0.180135</td>\n",
       "      <td>data_perturbed_init_runtime</td>\n",
       "    </tr>\n",
       "    <tr>\n",
       "      <th>{'name': 'data_init_runtime', 'type': 'function'}</th>\n",
       "      <th>3297710960</th>\n",
       "      <td>4.0</td>\n",
       "      <td>regionprofile</td>\n",
       "      <td>0.016869</td>\n",
       "      <td>0.018813</td>\n",
       "      <td>0.017496</td>\n",
       "      <td>0.559873</td>\n",
       "      <td>0.000000</td>\n",
       "      <td>1.0</td>\n",
       "      <td>1.0</td>\n",
       "      <td>1.0</td>\n",
       "      <td>32.0</td>\n",
       "      <td>0.016869</td>\n",
       "      <td>0.018813</td>\n",
       "      <td>0.017496</td>\n",
       "      <td>0.559873</td>\n",
       "      <td>data_init_runtime</td>\n",
       "    </tr>\n",
       "    <tr>\n",
       "      <th>{'name': 'comp', 'type': 'function'}</th>\n",
       "      <th>3297710960</th>\n",
       "      <td>5.0</td>\n",
       "      <td>regionprofile</td>\n",
       "      <td>0.573497</td>\n",
       "      <td>0.597503</td>\n",
       "      <td>0.590947</td>\n",
       "      <td>18.910303</td>\n",
       "      <td>0.000027</td>\n",
       "      <td>6.0</td>\n",
       "      <td>6.0</td>\n",
       "      <td>6.0</td>\n",
       "      <td>192.0</td>\n",
       "      <td>0.000110</td>\n",
       "      <td>0.000207</td>\n",
       "      <td>0.000168</td>\n",
       "      <td>0.005382</td>\n",
       "      <td>comp</td>\n",
       "    </tr>\n",
       "  </tbody>\n",
       "</table>\n",
       "</div>"
      ],
      "text/plain": [
       "                                                                        nid spot.channel    Min time/rank  Max time/rank  Avg time/rank  Total time  Variance time/rank  Calls/rank (min)  Calls/rank (avg)  Calls/rank (max)  Calls/rank (total)  Min time/rank (exc)  Max time/rank (exc)  Avg time/rank (exc)  Total time (exc) name                        \n",
       "node                                                        profile                                                                                                                                                                                                                                                                                            \n",
       "{'name': 'main', 'type': 'function'}                        3297710960  1.0  regionprofile  0.906205       0.912302       0.909992       29.119751   0.000005            1.0               1.0               1.0                32.0               0.200286             0.235638             0.225352             7.211253                                 main\n",
       "{'name': 'data_init_runtime', 'type': 'function'}           3297710960  2.0  regionprofile  0.021971       0.024824       0.023147        0.740707   0.000001            1.0               1.0               1.0                32.0               0.000019             0.000025             0.000022             0.000700                    data_init_runtime\n",
       "{'name': 'data_perturbed_init_runtime', 'type': 'function'} 3297710960  3.0  regionprofile  0.021947       0.024798       0.023125        0.740007   0.000001            1.0               1.0               1.0                32.0               0.004903             0.007133             0.005629             0.180135          data_perturbed_init_runtime\n",
       "{'name': 'data_init_runtime', 'type': 'function'}           3297710960  4.0  regionprofile  0.016869       0.018813       0.017496        0.559873   0.000000            1.0               1.0               1.0                32.0               0.016869             0.018813             0.017496             0.559873                    data_init_runtime\n",
       "{'name': 'comp', 'type': 'function'}                        3297710960  5.0  regionprofile  0.573497       0.597503       0.590947       18.910303   0.000027            6.0               6.0               6.0               192.0               0.000110             0.000207             0.000168             0.005382                                 comp"
      ]
     },
     "execution_count": 46,
     "metadata": {},
     "output_type": "execute_result"
    }
   ],
   "source": [
    "\n",
    "# tk.metadata_column_to_perfdata(\"matrix_size\")\n",
    "pd.set_option('display.max_columns', None)  # Show all columns\n",
    "pd.set_option('display.max_colwidth', None)  # Show full content of each column\n",
    "pd.set_option('display.expand_frame_repr', False)\n",
    "# tk.dataframe = tk.dataframe.reset_index().set_index([\"node\", \"num_procs\", \"matrix_size\"]).sort_index()\n",
    "tk.dataframe.head()\n",
    "\n",
    "\n",
    "\n"
   ]
  },
  {
   "cell_type": "code",
   "execution_count": null,
   "metadata": {},
   "outputs": [],
   "source": []
  }
 ],
 "metadata": {
  "kernelspec": {
   "display_name": "Python 3 (ipykernel)",
   "language": "python",
   "name": "python3"
  },
  "language_info": {
   "codemirror_mode": {
    "name": "ipython",
    "version": 3
   },
   "file_extension": ".py",
   "mimetype": "text/x-python",
   "name": "python",
   "nbconvert_exporter": "python",
   "pygments_lexer": "ipython3",
   "version": "3.10.4"
  }
 },
 "nbformat": 4,
 "nbformat_minor": 4
}
