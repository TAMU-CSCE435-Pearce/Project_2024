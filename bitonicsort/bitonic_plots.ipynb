{
 "cells": [
  {
   "cell_type": "code",
   "execution_count": null,
   "metadata": {
    "vscode": {
     "languageId": "plaintext"
    }
   },
   "outputs": [],
   "source": [
    "import matplotlib.pyplot as plt\n",
    "import numpy as np\n",
    "\n",
    "# Load the performance data into a Thicket dataframe\n",
    "tk = th.Thicket.from_caliperreader(glob(\"cali/*.cali\"))\n"
   ]
  },
  {
   "cell_type": "code",
   "execution_count": null,
   "metadata": {
    "vscode": {
     "languageId": "plaintext"
    }
   },
   "outputs": [],
   "source": [
    "# Ensure metadata columns are converted to performance data\n",
    "tk.metadata_column_to_perfdata(\"input_type\")\n",
    "tk.metadata_column_to_perfdata(\"input_size\")\n",
    "tk.metadata_column_to_perfdata(\"num_procs\")\n",
    "\n",
    "# Print the dataframe columns to check for input_type, input_size, and num_procs\n",
    "print(\"Columns in dataframe:\", tk.dataframe.columns)\n",
    "\n",
    "# Reset the index and organize the data for easy plotting\n",
    "tk.dataframe = tk.dataframe.reset_index().set_index([\"node\", \"num_procs\", \"input_size\", \"input_type\"]).sort_index()\n",
    "\n",
    "# Print the head of the dataframe to verify structure\n",
    "print(tk.dataframe.head())"
   ]
  },
  {
   "cell_type": "code",
   "execution_count": null,
   "metadata": {
    "vscode": {
     "languageId": "plaintext"
    }
   },
   "outputs": [],
   "source": [
    "# Function to plot strong scaling for each input size\n",
    "def plot_strong_scaling(df, input_size, title):\n",
    "    plt.figure(figsize=(15, 7))\n",
    "    \n",
    "    for input_type in df.index.get_level_values('input_type').unique():\n",
    "        subset = df.xs((input_size, input_type), level=('input_size', 'input_type'), drop_level=False)\n",
    "\n",
    "        # Filter out non-positive values for plotting\n",
    "        subset = subset[subset['Avg time/rank'] > 0]\n",
    "        \n",
    "        if not subset.empty:\n",
    "            plt.plot(subset.index.get_level_values('num_procs'), subset['Avg time/rank'], label=f'{input_type}', marker='o')\n",
    "    \n",
    "    if pd.notna(input_size):\n",
    "        input_size_str = f\"$2^{{{int(np.log2(input_size))}}}$\"\n",
    "    else:\n",
    "        input_size_str = \"Unknown Size\"\n",
    "\n",
    "    plt.title(f\"{title}: Strong Scaling (Input Size: {input_size_str})\")\n",
    "    plt.xlabel('Number of Processes')\n",
    "    plt.ylabel('Avg Time per Rank (seconds)')\n",
    "    plt.xscale('log', base=2)\n",
    "    plt.yscale('log')\n",
    "    plt.legend()\n",
    "    plt.grid(True)\n",
    "    plt.show()\n",
    "\n",
    "# Function to plot weak scaling for each input type\n",
    "def plot_weak_scaling(df, input_type, title):\n",
    "    plt.figure(figsize=(15, 7))\n",
    "    \n",
    "    subset = df.xs(input_type, level='input_type', drop_level=False)\n",
    "\n",
    "    # Filter out non-positive values for plotting\n",
    "    subset = subset[subset['Avg time/rank'] > 0]\n",
    "\n",
    "    if not subset.empty:\n",
    "        plt.plot(subset.index.get_level_values('num_procs'), subset['Avg time/rank'], label=f'{input_type}', marker='o')\n",
    "\n",
    "    plt.title(f\"{title}: Weak Scaling ({input_type})\")\n",
    "    plt.xlabel('Number of Processes')\n",
    "    plt.ylabel('Avg Time per Rank (seconds)')\n",
    "    plt.xscale('log', base=2)\n",
    "    plt.yscale('log')\n",
    "    plt.grid(True)\n",
    "    plt.legend()\n",
    "    plt.show()\n",
    "\n",
    "# Function to plot strong scaling speedup\n",
    "def plot_speedup(df, input_type, base_time, title):\n",
    "    plt.figure(figsize=(15, 7))\n",
    "    \n",
    "    subset = df.xs(input_type, level='input_type', drop_level=False)\n",
    "\n",
    "    # Filter out non-positive values for speedup calculation\n",
    "    subset = subset[subset['Avg time/rank'] > 0]\n",
    "\n",
    "    if not subset.empty:\n",
    "        speedup = base_time / subset['Avg time/rank']\n",
    "        plt.plot(subset.index.get_level_values('num_procs'), speedup, label=f'Speedup ({input_type})', marker='o')\n",
    "\n",
    "        plt.title(f\"{title}: Strong Scaling Speedup ({input_type})\")\n",
    "        plt.xlabel('Number of Processes')\n",
    "        plt.ylabel('Speedup')\n",
    "        plt.xscale('log', base=2)\n",
    "        plt.grid(True)\n",
    "        plt.legend()\n",
    "        plt.show()"
   ]
  },
  {
   "cell_type": "code",
   "execution_count": null,
   "metadata": {
    "vscode": {
     "languageId": "plaintext"
    }
   },
   "outputs": [],
   "source": [
    "for node in tk.graph.traverse():\n",
    "    if node.frame['name'] == 'comp_large' or node.frame['name'] == 'comm' or node.frame['name'] == 'main':\n",
    "        input_sizes = tk.dataframe.loc[node].index.get_level_values(\"input_size\").unique()\n",
    "        input_types = tk.dataframe.loc[node].index.get_level_values(\"input_type\").unique()\n",
    "\n",
    "        # Exclude 'NaN' and 'Random' from input_types\n",
    "        input_types = [t for t in input_types if pd.notna(t) and t != 'Random']\n",
    "\n",
    "        # Strong scaling plots for each input size\n",
    "        for input_size in input_sizes:\n",
    "            plot_strong_scaling(tk.dataframe.loc[node], input_size, node.frame['name'])\n",
    "\n",
    "        # Strong scaling speedup plots for each input type\n",
    "        # Get the base time by filtering num_procs == 2 within the current node subset\n",
    "        node_df = tk.dataframe.loc[node]  # Filter the dataframe for the current node\n",
    "        base_time = node_df[node_df.index.get_level_values('num_procs') == 2]['Avg time/rank'].values[0]\n",
    "\n",
    "        for input_type in input_types:\n",
    "            plot_speedup(tk.dataframe.loc[node], input_type, base_time, node.frame['name'])\n",
    "\n",
    "        # Weak scaling plots for each input type\n",
    "        for input_type in input_types:\n",
    "            plot_weak_scaling(tk.dataframe.loc[node], input_type, node.frame['name'])"
   ]
  }
 ],
 "metadata": {
  "language_info": {
   "name": "python"
  }
 },
 "nbformat": 4,
 "nbformat_minor": 2
}
